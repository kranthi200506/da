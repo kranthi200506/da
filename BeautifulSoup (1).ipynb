{
  "nbformat": 4,
  "nbformat_minor": 0,
  "metadata": {
    "colab": {
      "provenance": []
    },
    "kernelspec": {
      "name": "python3",
      "display_name": "Python 3"
    },
    "language_info": {
      "name": "python"
    }
  },
  "cells": [
    {
      "cell_type": "markdown",
      "source": [
        "We start with an html element stored as a string in a variable"
      ],
      "metadata": {
        "id": "UD7fBq-Tk_sx"
      }
    },
    {
      "cell_type": "code",
      "source": [
        "!pip install bs4"
      ],
      "metadata": {
        "colab": {
          "base_uri": "https://localhost:8080/"
        },
        "id": "onCCB9BRU1CV",
        "outputId": "8485dd4c-28cc-4951-e7f6-d57941c11483"
      },
      "execution_count": 2,
      "outputs": [
        {
          "output_type": "stream",
          "name": "stdout",
          "text": [
            "Collecting bs4\n",
            "  Downloading bs4-0.0.2-py2.py3-none-any.whl.metadata (411 bytes)\n",
            "Requirement already satisfied: beautifulsoup4 in /usr/local/lib/python3.11/dist-packages (from bs4) (4.12.3)\n",
            "Requirement already satisfied: soupsieve>1.2 in /usr/local/lib/python3.11/dist-packages (from beautifulsoup4->bs4) (2.6)\n",
            "Downloading bs4-0.0.2-py2.py3-none-any.whl (1.2 kB)\n",
            "Installing collected packages: bs4\n",
            "Successfully installed bs4-0.0.2\n"
          ]
        }
      ]
    },
    {
      "cell_type": "code",
      "source": [
        "from bs4 import BeautifulSoup\n",
        "\n",
        "# Sample HTML document\n",
        "html_doc = \"\"\"\n",
        "<html>\n",
        "<head><title>Sample Webpage</title></head>\n",
        "<body>\n",
        "    <h1>Main Heading</h1>\n",
        "    <p class=\"content\">This is a paragraph.</p>\n",
        "    <p class=\"content\">Another paragraph with <a href=\"https://example.com\">a link</a>.</p>\n",
        "\n",
        "    <div id=\"container\">\n",
        "        <ul>\n",
        "            <li class=\"item\">Item 1</li>\n",
        "            <li class=\"item\">Item 2</li>\n",
        "            <li class=\"item\">Item 3</li>\n",
        "        </ul>\n",
        "    </div>\n",
        "\n",
        "    <table>\n",
        "        <tr><th>Name</th><th>Age</th></tr>\n",
        "        <tr><td>Alice</td><td>25</td></tr>\n",
        "        <tr><td>Bob</td><td>30</td></tr>\n",
        "    </table>\n",
        "</body>\n",
        "</html>\n",
        "\"\"\"\n",
        "\n"
      ],
      "metadata": {
        "id": "m8wg5az_WR8-"
      },
      "execution_count": 24,
      "outputs": []
    },
    {
      "cell_type": "code",
      "source": [
        "soup = BeautifulSoup(html_doc, \"html.parser\")\n",
        "print(soup)"
      ],
      "metadata": {
        "colab": {
          "base_uri": "https://localhost:8080/"
        },
        "id": "uK3_InNQYDs7",
        "outputId": "02e5ec09-655b-4955-fc0f-79c61532c519"
      },
      "execution_count": 25,
      "outputs": [
        {
          "output_type": "stream",
          "name": "stdout",
          "text": [
            "\n",
            "<html>\n",
            "<head><title>Sample Webpage</title></head>\n",
            "<body>\n",
            "<h1>Main Heading</h1>\n",
            "<p class=\"content\">This is a paragraph.</p>\n",
            "<p class=\"content\">Another paragraph with <a href=\"https://example.com\">a link</a>.</p>\n",
            "<div id=\"container\">\n",
            "<ul>\n",
            "<li class=\"item\">Item 1</li>\n",
            "<li class=\"item\">Item 2</li>\n",
            "<li class=\"item\">Item 3</li>\n",
            "</ul>\n",
            "</div>\n",
            "<table>\n",
            "<tr><th>Name</th><th>Age</th></tr>\n",
            "<tr><td>Alice</td><td>25</td></tr>\n",
            "<tr><td>Bob</td><td>30</td></tr>\n",
            "</table>\n",
            "</body>\n",
            "</html>\n",
            "\n"
          ]
        }
      ]
    },
    {
      "cell_type": "code",
      "source": [
        "\n",
        "\n",
        "# 1. **Basic Parsing**\n",
        "print(\"Page Title:\", soup.title.text)  # Extract title\n"
      ],
      "metadata": {
        "colab": {
          "base_uri": "https://localhost:8080/"
        },
        "id": "Uqks49G1XRTW",
        "outputId": "5f97e09f-6a69-44bf-db29-c17f46b66921"
      },
      "execution_count": 26,
      "outputs": [
        {
          "output_type": "stream",
          "name": "stdout",
          "text": [
            "Page Title: Sample Webpage\n"
          ]
        }
      ]
    },
    {
      "cell_type": "code",
      "source": [
        "# 2. **Finding Elements**\n",
        "print(\"\\nFind first paragraph:\", soup.find(\"p\").text)  # First <p> tag\n",
        "print(\"Find all paragraphs:\", [p.text for p in soup.find_all(\"p\")])  # All <p> tags"
      ],
      "metadata": {
        "colab": {
          "base_uri": "https://localhost:8080/"
        },
        "id": "d90SVPtmXSWk",
        "outputId": "7f7d3463-5628-4bec-d113-0f00ff2796fe"
      },
      "execution_count": 27,
      "outputs": [
        {
          "output_type": "stream",
          "name": "stdout",
          "text": [
            "\n",
            "Find first paragraph: This is a paragraph.\n",
            "Find all paragraphs: ['This is a paragraph.', 'Another paragraph with a link.']\n"
          ]
        }
      ]
    },
    {
      "cell_type": "code",
      "source": [
        "# 3. **Using CSS Selectors**\n",
        "print(\"\\nUsing CSS Selectors:\")\n",
        "print(soup.select(\"h1\")[0].text)  # Select by tag name\n",
        "print(soup.seerct(\".content\"))  # Select by class\n",
        "print(soup.select(\"#container ul li\"))  # Select second list item in <ul>"
      ],
      "metadata": {
        "colab": {
          "base_uri": "https://localhost:8080/"
        },
        "id": "VY65Swe5XS8S",
        "outputId": "325f5d1f-adea-4da8-fbf2-610032947a5f"
      },
      "execution_count": 35,
      "outputs": [
        {
          "output_type": "stream",
          "name": "stdout",
          "text": [
            "\n",
            "Using CSS Selectors:\n",
            "Main Heading\n",
            "[]\n",
            "[<li class=\"item\">Item 1</li>, <li class=\"item\">Item 2</li>, <li class=\"item\">Item 3</li>]\n"
          ]
        }
      ]
    },
    {
      "cell_type": "code",
      "source": [
        "# 4. **Navigating the DOM**\n",
        "print(\"\\nNavigating the DOM:\")\n",
        "print(soup.body.h1.text)  # First <h1> tag inside <body>\n",
        "print(soup.body.div.ul.li.text)  # First <li> inside <div> -> <ul>"
      ],
      "metadata": {
        "colab": {
          "base_uri": "https://localhost:8080/"
        },
        "id": "8U85mdtsXi_a",
        "outputId": "aad3ac20-42aa-432a-9b78-49a4a10a39e9"
      },
      "execution_count": 7,
      "outputs": [
        {
          "output_type": "stream",
          "name": "stdout",
          "text": [
            "\n",
            "Navigating the DOM:\n",
            "Main Heading\n",
            "Item 1\n"
          ]
        }
      ]
    },
    {
      "cell_type": "code",
      "source": [
        "# 5. **Extracting Attributes**\n",
        "link = soup.find(\"a\")\n",
        "print(link)\n",
        "print(link.text)\n",
        "print(\"\\nExtracting Attributes:\")\n",
        "print(\"Link URL:\", link[\"href\"])  # Extract href attribute of <a>"
      ],
      "metadata": {
        "colab": {
          "base_uri": "https://localhost:8080/"
        },
        "id": "NvuUgD_rXjuM",
        "outputId": "7cb93a43-88d6-4645-b0cf-204392d4ec09"
      },
      "execution_count": 8,
      "outputs": [
        {
          "output_type": "stream",
          "name": "stdout",
          "text": [
            "<a href=\"https://example.com\">a link</a>\n",
            "a link\n",
            "\n",
            "Extracting Attributes:\n",
            "Link URL: https://example.com\n"
          ]
        }
      ]
    },
    {
      "cell_type": "code",
      "source": [
        "\n",
        "# 6. **Modifying HTML**\n",
        "print(\"\\nModifying HTML:\")\n",
        "soup.find(\"h1\").string = \"Updated Heading\"\n",
        "print(soup.h1.text)"
      ],
      "metadata": {
        "colab": {
          "base_uri": "https://localhost:8080/"
        },
        "id": "lwI3L38tXjYJ",
        "outputId": "a284dbc2-defd-48e5-925a-5034e4e5cf0f"
      },
      "execution_count": 9,
      "outputs": [
        {
          "output_type": "stream",
          "name": "stdout",
          "text": [
            "\n",
            "Modifying HTML:\n",
            "Updated Heading\n"
          ]
        }
      ]
    },
    {
      "cell_type": "code",
      "source": [
        "# 7. **Extracting Text**\n",
        "print(\"\\nExtracting All Text from Page:\")\n",
        "print(soup.get_text())"
      ],
      "metadata": {
        "id": "G0fUVumfXwKl",
        "colab": {
          "base_uri": "https://localhost:8080/"
        },
        "outputId": "6feb3c89-55b1-4897-f3cc-7206a8d4f3ba"
      },
      "execution_count": 10,
      "outputs": [
        {
          "output_type": "stream",
          "name": "stdout",
          "text": [
            "\n",
            "Extracting All Text from Page:\n",
            "\n",
            "\n",
            "Sample Webpage\n",
            "\n",
            "Updated Heading\n",
            "This is a paragraph.\n",
            "Another paragraph with a link.\n",
            "\n",
            "\n",
            "Item 1\n",
            "Item 2\n",
            "Item 3\n",
            "\n",
            "\n",
            "\n",
            "NameAge\n",
            "Alice25\n",
            "Bob30\n",
            "\n",
            "\n",
            "\n",
            "\n"
          ]
        }
      ]
    },
    {
      "cell_type": "code",
      "source": [
        "# 8. **Working with Tables**\n",
        "table = soup.find(\"table\")\n",
        "rows = table.find_all(\"tr\")\n",
        "print(\"\\nTable Data:\")\n",
        "for row in rows:\n",
        "    cols = row.find_all(\"td\")\n",
        "    if cols:\n",
        "        print(f\"Name: {cols[0].text}, Age: {cols[1].text}\")"
      ],
      "metadata": {
        "id": "YrdhsmKkXwjS",
        "colab": {
          "base_uri": "https://localhost:8080/"
        },
        "outputId": "94595b86-a26e-4107-aa30-50195d82a7a9"
      },
      "execution_count": 11,
      "outputs": [
        {
          "output_type": "stream",
          "name": "stdout",
          "text": [
            "\n",
            "Table Data:\n",
            "Name: Alice, Age: 25\n",
            "Name: Bob, Age: 30\n"
          ]
        }
      ]
    },
    {
      "cell_type": "code",
      "source": [
        "\n",
        "# 9. **Decomposing (Removing) Elements**\n",
        "soup.find(\"h1\").decompose()  # Remove <h1> tag\n",
        "print(\"\\nAfter Removing h1:\", soup)"
      ],
      "metadata": {
        "id": "T21V9_ixXw_L",
        "colab": {
          "base_uri": "https://localhost:8080/"
        },
        "outputId": "17aeb285-b349-4bf1-cd81-6f33f1a21dc9"
      },
      "execution_count": 12,
      "outputs": [
        {
          "output_type": "stream",
          "name": "stdout",
          "text": [
            "\n",
            "After Removing h1: \n",
            "<html>\n",
            "<head><title>Sample Webpage</title></head>\n",
            "<body>\n",
            "\n",
            "<p class=\"content\">This is a paragraph.</p>\n",
            "<p class=\"content\">Another paragraph with <a href=\"https://example.com\">a link</a>.</p>\n",
            "<div id=\"container\">\n",
            "<ul>\n",
            "<li class=\"item\">Item 1</li>\n",
            "<li class=\"item\">Item 2</li>\n",
            "<li class=\"item\">Item 3</li>\n",
            "</ul>\n",
            "</div>\n",
            "<table>\n",
            "<tr><th>Name</th><th>Age</th></tr>\n",
            "<tr><td>Alice</td><td>25</td></tr>\n",
            "<tr><td>Bob</td><td>30</td></tr>\n",
            "</table>\n",
            "</body>\n",
            "</html>\n",
            "\n"
          ]
        }
      ]
    },
    {
      "cell_type": "code",
      "source": [
        "# 10. **Prettifying HTML Output**\n",
        "print(\"\\nPrettified HTML:\")\n",
        "print(soup.prettify())\n"
      ],
      "metadata": {
        "id": "iJgS1ow_XIfm",
        "colab": {
          "base_uri": "https://localhost:8080/"
        },
        "outputId": "fada0fcd-64bc-4d47-b180-de60fdf4fd19"
      },
      "execution_count": 13,
      "outputs": [
        {
          "output_type": "stream",
          "name": "stdout",
          "text": [
            "\n",
            "Prettified HTML:\n",
            "<html>\n",
            " <head>\n",
            "  <title>\n",
            "   Sample Webpage\n",
            "  </title>\n",
            " </head>\n",
            " <body>\n",
            "  <p class=\"content\">\n",
            "   This is a paragraph.\n",
            "  </p>\n",
            "  <p class=\"content\">\n",
            "   Another paragraph with\n",
            "   <a href=\"https://example.com\">\n",
            "    a link\n",
            "   </a>\n",
            "   .\n",
            "  </p>\n",
            "  <div id=\"container\">\n",
            "   <ul>\n",
            "    <li class=\"item\">\n",
            "     Item 1\n",
            "    </li>\n",
            "    <li class=\"item\">\n",
            "     Item 2\n",
            "    </li>\n",
            "    <li class=\"item\">\n",
            "     Item 3\n",
            "    </li>\n",
            "   </ul>\n",
            "  </div>\n",
            "  <table>\n",
            "   <tr>\n",
            "    <th>\n",
            "     Name\n",
            "    </th>\n",
            "    <th>\n",
            "     Age\n",
            "    </th>\n",
            "   </tr>\n",
            "   <tr>\n",
            "    <td>\n",
            "     Alice\n",
            "    </td>\n",
            "    <td>\n",
            "     25\n",
            "    </td>\n",
            "   </tr>\n",
            "   <tr>\n",
            "    <td>\n",
            "     Bob\n",
            "    </td>\n",
            "    <td>\n",
            "     30\n",
            "    </td>\n",
            "   </tr>\n",
            "  </table>\n",
            " </body>\n",
            "</html>\n",
            "\n"
          ]
        }
      ]
    },
    {
      "cell_type": "code",
      "execution_count": 14,
      "metadata": {
        "id": "FsU7dSBMdJZ8"
      },
      "outputs": [],
      "source": [
        "x='<html><th>Location</th><th>Population</th></html>'"
      ]
    },
    {
      "cell_type": "code",
      "source": [
        "x"
      ],
      "metadata": {
        "colab": {
          "base_uri": "https://localhost:8080/",
          "height": 35
        },
        "id": "eiSLsM_ydzF3",
        "outputId": "34f291bb-1aec-4b0f-a99a-e29bdc693802"
      },
      "execution_count": 15,
      "outputs": [
        {
          "output_type": "execute_result",
          "data": {
            "text/plain": [
              "'<html><th>Location</th><th>Population</th></html>'"
            ],
            "application/vnd.google.colaboratory.intrinsic+json": {
              "type": "string"
            }
          },
          "metadata": {},
          "execution_count": 15
        }
      ]
    },
    {
      "cell_type": "code",
      "source": [
        "print(type(x))"
      ],
      "metadata": {
        "colab": {
          "base_uri": "https://localhost:8080/"
        },
        "id": "Un-YPOBXlJCW",
        "outputId": "94a432c7-01cf-4442-9e41-85386320cfc1"
      },
      "execution_count": 16,
      "outputs": [
        {
          "output_type": "stream",
          "name": "stdout",
          "text": [
            "<class 'str'>\n"
          ]
        }
      ]
    },
    {
      "cell_type": "markdown",
      "source": [
        "Importing Beautiful Soup, provided it's already installed"
      ],
      "metadata": {
        "id": "bOKC3RjHlPc9"
      }
    },
    {
      "cell_type": "code",
      "source": [
        "from bs4 import BeautifulSoup"
      ],
      "metadata": {
        "id": "TfgZZqBgd1CJ"
      },
      "execution_count": 17,
      "outputs": []
    },
    {
      "cell_type": "code",
      "source": [
        "soup=BeautifulSoup(x)\n",
        "print(soup)\n",
        "print(type(soup))"
      ],
      "metadata": {
        "colab": {
          "base_uri": "https://localhost:8080/"
        },
        "id": "hhRV4B1heAGZ",
        "outputId": "14a93b38-5fa4-40e3-968e-9a43f25442b2"
      },
      "execution_count": 18,
      "outputs": [
        {
          "output_type": "stream",
          "name": "stdout",
          "text": [
            "<html><body><th>Location</th><th>Population</th></body></html>\n",
            "<class 'bs4.BeautifulSoup'>\n"
          ]
        }
      ]
    },
    {
      "cell_type": "markdown",
      "source": [
        "Finding First Occurence, soup.find is helping us find the first occurence"
      ],
      "metadata": {
        "id": "aUxRyKTLe5pV"
      }
    },
    {
      "cell_type": "code",
      "source": [
        "firstfind = soup.find('th')\n",
        "print(firstfind)\n",
        "print(type(firstfind))\n",
        "print(firstfind.text)\n",
        "print(type(firstfind.text))"
      ],
      "metadata": {
        "colab": {
          "base_uri": "https://localhost:8080/"
        },
        "id": "7PPzz4TheV44",
        "outputId": "061234b9-768f-40be-d5d9-51a53d5b9abf"
      },
      "execution_count": 19,
      "outputs": [
        {
          "output_type": "stream",
          "name": "stdout",
          "text": [
            "<th>Location</th>\n",
            "<class 'bs4.element.Tag'>\n",
            "Location\n",
            "<class 'str'>\n"
          ]
        }
      ]
    },
    {
      "cell_type": "markdown",
      "source": [
        "Finding All occurences, soup.find_all is helping us find all occurences"
      ],
      "metadata": {
        "id": "0uxBcB0mfBeE"
      }
    },
    {
      "cell_type": "code",
      "source": [
        "allfind=soup.find_all('th')\n",
        "print(allfind)\n",
        "print(type(allfind))\n",
        "print(allfind.text)#Error\n",
        "print(type(allfind.text))#Error\n"
      ],
      "metadata": {
        "colab": {
          "base_uri": "https://localhost:8080/",
          "height": 384
        },
        "id": "EjFGDFu0fBHB",
        "outputId": "eeaf3ba2-b13b-4c0e-a46d-a89bc0c73bae"
      },
      "execution_count": 20,
      "outputs": [
        {
          "output_type": "stream",
          "name": "stdout",
          "text": [
            "[<th>Location</th>, <th>Population</th>]\n",
            "<class 'bs4.element.ResultSet'>\n"
          ]
        },
        {
          "output_type": "error",
          "ename": "AttributeError",
          "evalue": "ResultSet object has no attribute 'text'. You're probably treating a list of elements like a single element. Did you call find_all() when you meant to call find()?",
          "traceback": [
            "\u001b[0;31m---------------------------------------------------------------------------\u001b[0m",
            "\u001b[0;31mAttributeError\u001b[0m                            Traceback (most recent call last)",
            "\u001b[0;32m<ipython-input-20-98ae9902fca5>\u001b[0m in \u001b[0;36m<cell line: 0>\u001b[0;34m()\u001b[0m\n\u001b[1;32m      2\u001b[0m \u001b[0mprint\u001b[0m\u001b[0;34m(\u001b[0m\u001b[0mallfind\u001b[0m\u001b[0;34m)\u001b[0m\u001b[0;34m\u001b[0m\u001b[0;34m\u001b[0m\u001b[0m\n\u001b[1;32m      3\u001b[0m \u001b[0mprint\u001b[0m\u001b[0;34m(\u001b[0m\u001b[0mtype\u001b[0m\u001b[0;34m(\u001b[0m\u001b[0mallfind\u001b[0m\u001b[0;34m)\u001b[0m\u001b[0;34m)\u001b[0m\u001b[0;34m\u001b[0m\u001b[0;34m\u001b[0m\u001b[0m\n\u001b[0;32m----> 4\u001b[0;31m \u001b[0mprint\u001b[0m\u001b[0;34m(\u001b[0m\u001b[0mallfind\u001b[0m\u001b[0;34m.\u001b[0m\u001b[0mtext\u001b[0m\u001b[0;34m)\u001b[0m\u001b[0;31m#Error\u001b[0m\u001b[0;34m\u001b[0m\u001b[0;34m\u001b[0m\u001b[0m\n\u001b[0m\u001b[1;32m      5\u001b[0m \u001b[0mprint\u001b[0m\u001b[0;34m(\u001b[0m\u001b[0mtype\u001b[0m\u001b[0;34m(\u001b[0m\u001b[0mallfind\u001b[0m\u001b[0;34m.\u001b[0m\u001b[0mtext\u001b[0m\u001b[0;34m)\u001b[0m\u001b[0;34m)\u001b[0m\u001b[0;31m#Error\u001b[0m\u001b[0;34m\u001b[0m\u001b[0;34m\u001b[0m\u001b[0m\n",
            "\u001b[0;32m/usr/local/lib/python3.11/dist-packages/bs4/element.py\u001b[0m in \u001b[0;36m__getattr__\u001b[0;34m(self, key)\u001b[0m\n\u001b[1;32m   2431\u001b[0m     \u001b[0;32mdef\u001b[0m \u001b[0m__getattr__\u001b[0m\u001b[0;34m(\u001b[0m\u001b[0mself\u001b[0m\u001b[0;34m,\u001b[0m \u001b[0mkey\u001b[0m\u001b[0;34m)\u001b[0m\u001b[0;34m:\u001b[0m\u001b[0;34m\u001b[0m\u001b[0;34m\u001b[0m\u001b[0m\n\u001b[1;32m   2432\u001b[0m         \u001b[0;34m\"\"\"Raise a helpful exception to explain a common code fix.\"\"\"\u001b[0m\u001b[0;34m\u001b[0m\u001b[0;34m\u001b[0m\u001b[0m\n\u001b[0;32m-> 2433\u001b[0;31m         raise AttributeError(\n\u001b[0m\u001b[1;32m   2434\u001b[0m             \u001b[0;34m\"ResultSet object has no attribute '%s'. You're probably treating a list of elements like a single element. Did you call find_all() when you meant to call find()?\"\u001b[0m \u001b[0;34m%\u001b[0m \u001b[0mkey\u001b[0m\u001b[0;34m\u001b[0m\u001b[0;34m\u001b[0m\u001b[0m\n\u001b[1;32m   2435\u001b[0m         )\n",
            "\u001b[0;31mAttributeError\u001b[0m: ResultSet object has no attribute 'text'. You're probably treating a list of elements like a single element. Did you call find_all() when you meant to call find()?"
          ]
        }
      ]
    },
    {
      "cell_type": "code",
      "source": [
        "for i in allfind:\n",
        "  print(i)"
      ],
      "metadata": {
        "id": "pDTU1I3Qf-H1"
      },
      "execution_count": null,
      "outputs": []
    },
    {
      "cell_type": "code",
      "source": [
        "for i in allfind:\n",
        "  print(i.text)"
      ],
      "metadata": {
        "id": "9VPKSDtOg12h"
      },
      "execution_count": null,
      "outputs": []
    },
    {
      "cell_type": "code",
      "source": [
        "headers=[]\n",
        "for i in allfind:\n",
        "  headers.append(i.text)\n",
        "\n",
        "headers"
      ],
      "metadata": {
        "id": "Mm67SAHshK-9"
      },
      "execution_count": null,
      "outputs": []
    },
    {
      "cell_type": "markdown",
      "source": [
        "By List Comprehension"
      ],
      "metadata": {
        "id": "SaHeFKQ6h1SM"
      }
    },
    {
      "cell_type": "code",
      "source": [
        "headers = [i.text for i in allfind]\n",
        "headers"
      ],
      "metadata": {
        "id": "8nf0ck5ChsHv"
      },
      "execution_count": null,
      "outputs": []
    },
    {
      "cell_type": "code",
      "source": [],
      "metadata": {
        "id": "6VPz__6gioZl"
      },
      "execution_count": null,
      "outputs": []
    },
    {
      "cell_type": "markdown",
      "metadata": {
        "id": "ce9d7d3d"
      },
      "source": [
        "\n",
        "# Beautiful Soup Quiz - Code Tracing\n",
        "\n",
        "This notebook contains 10 questions focused on code tracing for Beautiful Soup. Each question includes code snippets, multiple-choice options, and the correct answer. Run the cells to see the correct answers.\n"
      ]
    },
    {
      "cell_type": "markdown",
      "metadata": {
        "id": "7e60060c"
      },
      "source": [
        "### Question 1\n",
        "```python\n",
        "\n",
        "from bs4 import BeautifulSoup\n",
        "\n",
        "html_doc = \"<html><body><h1>Hello, World!</h1></body></html>\"\n",
        "soup = BeautifulSoup(html_doc, \"html.parser\")\n",
        "print(soup.h1.text)\n",
        "```"
      ]
    },
    {
      "cell_type": "markdown",
      "metadata": {
        "id": "104aca6c"
      },
      "source": [
        "**Options:**\n",
        "A) <h1>Hello, World!</h1>\n",
        "B) Hello, World!\n",
        "C) None\n",
        "D) Error: AttributeError"
      ]
    },
    {
      "cell_type": "code",
      "execution_count": null,
      "metadata": {
        "id": "09ad8bb5"
      },
      "outputs": [],
      "source": [
        "# Correct Answer\n",
        "print(\"Correct Answer: B) Hello, World!\")"
      ]
    },
    {
      "cell_type": "markdown",
      "metadata": {
        "id": "b2b53db3"
      },
      "source": [
        "### Question 2\n",
        "```python\n",
        "\n",
        "from bs4 import BeautifulSoup\n",
        "\n",
        "html_doc = \"<html><body><p class='info'>Python</p><p>Beautiful Soup</p></body></html>\"\n",
        "soup = BeautifulSoup(html_doc, \"html.parser\")\n",
        "print(soup.find('p').text)\n",
        "```"
      ]
    },
    {
      "cell_type": "markdown",
      "metadata": {
        "id": "629bc6da"
      },
      "source": [
        "**Options:**\n",
        "A) Python\n",
        "B) Beautiful Soup\n",
        "C) <p class='info'>Python</p>\n",
        "D) None"
      ]
    },
    {
      "cell_type": "code",
      "execution_count": null,
      "metadata": {
        "id": "0fe73949"
      },
      "outputs": [],
      "source": [
        "# Correct Answer\n",
        "print(\"Correct Answer: A) Python\")"
      ]
    },
    {
      "cell_type": "markdown",
      "metadata": {
        "id": "55d6a4e1"
      },
      "source": [
        "### Question 3\n",
        "```python\n",
        "\n",
        "from bs4 import BeautifulSoup\n",
        "\n",
        "html_doc = \"\"\"\n",
        "<html>\n",
        "  <body>\n",
        "    <p class='content'>Paragraph 1</p>\n",
        "    <p>Paragraph 2</p>\n",
        "    <p class='content'>Paragraph 3</p>\n",
        "  </body>\n",
        "</html>\n",
        "\"\"\"\n",
        "soup = BeautifulSoup(html_doc, \"html.parser\")\n",
        "result = soup.find_all('p', class_='content')\n",
        "for item in result:\n",
        "    print(item.text)\n",
        "```"
      ]
    },
    {
      "cell_type": "markdown",
      "metadata": {
        "id": "f37b1798"
      },
      "source": [
        "**Options:**\n",
        "A) Paragraph 1\n",
        "B) Paragraph 1 and Paragraph 3\n",
        "C) Paragraph 2\n",
        "D) None"
      ]
    },
    {
      "cell_type": "code",
      "execution_count": null,
      "metadata": {
        "id": "b714eb82"
      },
      "outputs": [],
      "source": [
        "# Correct Answer\n",
        "print(\"Correct Answer: B) Paragraph 1 and Paragraph 3\")"
      ]
    },
    {
      "cell_type": "markdown",
      "metadata": {
        "id": "97fe9ee2"
      },
      "source": [
        "### Question 4\n",
        "```python\n",
        "\n",
        "from bs4 import BeautifulSoup\n",
        "\n",
        "html_doc = \"<html><a href='https://example.com'>Visit Example</a></html>\"\n",
        "soup = BeautifulSoup(html_doc, \"html.parser\")\n",
        "print(soup.a['href'])\n",
        "```"
      ]
    },
    {
      "cell_type": "markdown",
      "metadata": {
        "id": "8827e2fc"
      },
      "source": [
        "**Options:**\n",
        "A) https://example.com\n",
        "B) Visit Example\n",
        "C) <a href='https://example.com'>Visit Example</a>\n",
        "D) None"
      ]
    },
    {
      "cell_type": "code",
      "execution_count": null,
      "metadata": {
        "id": "05bdd2df"
      },
      "outputs": [],
      "source": [
        "# Correct Answer\n",
        "print(\"Correct Answer: A) https://example.com\")"
      ]
    },
    {
      "cell_type": "markdown",
      "metadata": {
        "id": "50b131ba"
      },
      "source": [
        "### Question 5\n",
        "```python\n",
        "\n",
        "from bs4 import BeautifulSoup\n",
        "\n",
        "html_doc = \"\"\"\n",
        "<html>\n",
        "  <body>\n",
        "    <div>\n",
        "      <h1>Title</h1>\n",
        "      <p>Description</p>\n",
        "    </div>\n",
        "  </body>\n",
        "</html>\n",
        "\"\"\"\n",
        "soup = BeautifulSoup(html_doc, \"html.parser\")\n",
        "print(soup.div.h1.text)\n",
        "```"
      ]
    },
    {
      "cell_type": "markdown",
      "metadata": {
        "id": "721f6bfd"
      },
      "source": [
        "**Options:**\n",
        "A) Title\n",
        "B) Description\n",
        "C) <h1>Title</h1>\n",
        "D) None"
      ]
    },
    {
      "cell_type": "code",
      "execution_count": null,
      "metadata": {
        "id": "f99fd25e"
      },
      "outputs": [],
      "source": [
        "# Correct Answer\n",
        "print(\"Correct Answer: A) Title\")"
      ]
    },
    {
      "cell_type": "markdown",
      "metadata": {
        "id": "2e29fbc8"
      },
      "source": [
        "### Question 6\n",
        "```python\n",
        "\n",
        "from bs4 import BeautifulSoup\n",
        "\n",
        "html_doc = \"\"\"\n",
        "<html>\n",
        "  <body>\n",
        "    <ul>\n",
        "      <li>Item 1</li>\n",
        "      <li>Item 2</li>\n",
        "      <li>Item 3</li>\n",
        "    </ul>\n",
        "  </body>\n",
        "</html>\n",
        "\"\"\"\n",
        "soup = BeautifulSoup(html_doc, \"html.parser\")\n",
        "items = soup.find_all('li')\n",
        "print(len(items))\n",
        "```"
      ]
    },
    {
      "cell_type": "markdown",
      "metadata": {
        "id": "e3a449e3"
      },
      "source": [
        "**Options:**\n",
        "A) 1\n",
        "B) 2\n",
        "C) 3\n",
        "D) 0"
      ]
    },
    {
      "cell_type": "code",
      "execution_count": null,
      "metadata": {
        "id": "4360782a"
      },
      "outputs": [],
      "source": [
        "# Correct Answer\n",
        "print(\"Correct Answer: C) 3\")"
      ]
    },
    {
      "cell_type": "markdown",
      "metadata": {
        "id": "335fefa6"
      },
      "source": [
        "### Question 7\n",
        "```python\n",
        "\n",
        "from bs4 import BeautifulSoup\n",
        "\n",
        "html_doc = \"\"\"\n",
        "<html>\n",
        "  <body>\n",
        "    <div id=\"main\">\n",
        "      <p class=\"text\">First</p>\n",
        "      <p class=\"text\">Second</p>\n",
        "    </div>\n",
        "  </body>\n",
        "</html>\n",
        "\"\"\"\n",
        "soup = BeautifulSoup(html_doc, \"html.parser\")\n",
        "result = soup.select('#main .text')\n",
        "for item in result:\n",
        "    print(item.text)\n",
        "```"
      ]
    },
    {
      "cell_type": "markdown",
      "metadata": {
        "id": "e961a211"
      },
      "source": [
        "**Options:**\n",
        "A) First\n",
        "B) First and Second\n",
        "C) Second\n",
        "D) None"
      ]
    },
    {
      "cell_type": "code",
      "execution_count": null,
      "metadata": {
        "id": "73bd8c6c"
      },
      "outputs": [],
      "source": [
        "# Correct Answer\n",
        "print(\"Correct Answer: B) First and Second\")"
      ]
    },
    {
      "cell_type": "markdown",
      "metadata": {
        "id": "b5c0d418"
      },
      "source": [
        "### Question 8\n",
        "```python\n",
        "\n",
        "from bs4 import BeautifulSoup\n",
        "\n",
        "html_doc = \"<html><body><h1>Hello</h1><p>World</p></body></html>\"\n",
        "soup = BeautifulSoup(html_doc, \"html.parser\")\n",
        "print(soup.get_text())\n",
        "```"
      ]
    },
    {
      "cell_type": "markdown",
      "metadata": {
        "id": "1164ef7c"
      },
      "source": [
        "**Options:**\n",
        "A) Hello World\n",
        "B) Hello\\nWorld\n",
        "C) <h1>Hello</h1><p>World</p>\n",
        "D) None"
      ]
    },
    {
      "cell_type": "code",
      "execution_count": null,
      "metadata": {
        "id": "26a2dffc"
      },
      "outputs": [],
      "source": [
        "# Correct Answer\n",
        "print(\"Correct Answer: B) Hello\\nWorld\")"
      ]
    },
    {
      "cell_type": "markdown",
      "metadata": {
        "id": "cda67571"
      },
      "source": [
        "### Question 9\n",
        "```python\n",
        "\n",
        "from bs4 import BeautifulSoup\n",
        "\n",
        "html_doc = \"\"\"\n",
        "<html>\n",
        "  <body>\n",
        "    <img src=\"image1.png\" alt=\"First Image\">\n",
        "    <img src=\"image2.png\" alt=\"Second Image\">\n",
        "  </body>\n",
        "</html>\n",
        "\"\"\"\n",
        "soup = BeautifulSoup(html_doc, \"html.parser\")\n",
        "image = soup.find('img', alt='Second Image')\n",
        "print(image['src'])\n",
        "```"
      ]
    },
    {
      "cell_type": "markdown",
      "metadata": {
        "id": "94a11a3f"
      },
      "source": [
        "**Options:**\n",
        "A) image1.png\n",
        "B) image2.png\n",
        "C) <img src='image2.png' alt='Second Image'>\n",
        "D) None"
      ]
    },
    {
      "cell_type": "code",
      "execution_count": null,
      "metadata": {
        "id": "b83bbd94"
      },
      "outputs": [],
      "source": [
        "# Correct Answer\n",
        "print(\"Correct Answer: B) image2.png\")"
      ]
    },
    {
      "cell_type": "markdown",
      "metadata": {
        "id": "d47ea62c"
      },
      "source": [
        "### Question 10\n",
        "```python\n",
        "\n",
        "from bs4 import BeautifulSoup\n",
        "\n",
        "html_doc = \"\"\"\n",
        "<html>\n",
        "  <body>\n",
        "    <p class=\"info detail\">Content 1</p>\n",
        "    <p class=\"info\">Content 2</p>\n",
        "  </body>\n",
        "</html>\n",
        "\"\"\"\n",
        "soup = BeautifulSoup(html_doc, \"html.parser\")\n",
        "result = soup.find_all('p', class_='info')\n",
        "for item in result:\n",
        "    print(item.text)\n",
        "```"
      ]
    },
    {
      "cell_type": "markdown",
      "metadata": {
        "id": "80caec56"
      },
      "source": [
        "**Options:**\n",
        "A) Content 1\n",
        "B) Content 2\n",
        "C) Content 1 and Content 2\n",
        "D) None"
      ]
    },
    {
      "cell_type": "code",
      "execution_count": null,
      "metadata": {
        "id": "ad440d0c"
      },
      "outputs": [],
      "source": [
        "# Correct Answer\n",
        "print(\"Correct Answer: C) Content 1 and Content 2\")"
      ]
    },
    {
      "cell_type": "markdown",
      "source": [
        "**One Small Project**"
      ],
      "metadata": {
        "id": "zS1ug1trKUc2"
      }
    },
    {
      "cell_type": "markdown",
      "source": [
        "Beautiful Soup is a Python library used for web scraping purposes. It allows you to extract and manipulate data from HTML and XML documents. Here's an example to demonstrate how to use Beautiful Soup to scrape and process a webpage:\n",
        "\n",
        "**Example: Scraping Titles of Blog Posts**"
      ],
      "metadata": {
        "id": "eU0JqX2LKhm9"
      }
    },
    {
      "cell_type": "code",
      "source": [
        "from bs4 import BeautifulSoup\n",
        "import requests\n",
        "\n",
        "# URL of the webpage you want to scrape (using a real blog URL for example)\n",
        "url = 'https://realpython.com/'\n",
        "\n",
        "# Send an HTTP request to the webpage\n",
        "response = requests.get(url)\n",
        "\n",
        "# Parse the HTML content of the page\n",
        "soup = BeautifulSoup(response.text, 'html.parser')\n",
        "\n",
        "# Extract all the blog post titles (example: assuming titles are in <h2> tags with class 'card-title')\n",
        "titles = soup.find_all('h2', class_='card-title')\n",
        "\n",
        "# Print the extracted titles\n",
        "print(\"Blog Post Titles:\")\n",
        "for i, title in enumerate(titles, 1):\n",
        "    print(f\"{i}. {title.text.strip()}\")\n"
      ],
      "metadata": {
        "id": "nuQC8OhzM-lh"
      },
      "execution_count": null,
      "outputs": []
    },
    {
      "cell_type": "markdown",
      "source": [
        "Step 1: Import Libraries\n",
        "The first step is to import the necessary libraries: BeautifulSoup for parsing the HTML content of the webpage and requests for making HTTP requests. These libraries allow us to retrieve the webpage and extract specific elements from its structure.\n",
        "\n",
        "Step 2: Specify the Target URL\n",
        "You define the URL of the webpage you want to scrape. In this project, the target is a blog site, such as \"https://realpython.com/\". This URL serves as the entry point for fetching the content that you want to analyze.\n",
        "\n",
        "Step 3: Send an HTTP Request\n",
        "An HTTP GET request is sent to the specified URL using the requests library. The server responds with the HTML content of the webpage, which we can then process. This step ensures you have access to the page's raw content.\n",
        "\n",
        "Step 4: Parse the HTML Content\n",
        "The HTML content from the response is passed to BeautifulSoup, which parses it and converts it into a structured format that can be navigated like a tree. This enables you to efficiently locate and extract specific elements (e.g., titles, links, or text) from the webpage.\n",
        "\n",
        "Step 5: Locate Blog Post Titles\n",
        "BeautifulSoup's find_all method is used to search for specific tags (e.g., <h2>) and their associated class attributes (e.g., class='card-title'). This method retrieves all the matching elements, which in this case are the blog post titles. The find_all function returns a list containing these elements.\n",
        "\n",
        "Step 6: Loop Through Titles\n",
        "The list of blog post titles is iterated using a loop. For each title, the text content is extracted using the .text attribute of the tag, and unnecessary whitespace is removed using the .strip() method. The loop prints each title alongside its position in the list.\n",
        "\n",
        "Step 7: Display the Extracted Titles\n",
        "Finally, the extracted blog titles are displayed as a numbered list. Each title is printed in a clean format, making it easy to see the output of the project. This step concludes the task, giving you a clear view of the blog posts retrieved from the webpage.\n",
        "\n",
        "This step-by-step process demonstrates the basic workflow of web scraping: accessing a webpage, parsing its structure, and extracting specific data in a meaningful way."
      ],
      "metadata": {
        "id": "UJTx2KEtN6Sj"
      }
    }
  ]
}